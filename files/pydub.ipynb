{
 "cells": [
  {
   "cell_type": "code",
   "execution_count": null,
   "id": "773988f2-10a1-4167-8bdd-1c747a01d9db",
   "metadata": {
    "tags": []
   },
   "outputs": [],
   "source": [
    "from pydub import AudioSegment,silence\n",
    "from pydub.playback import play\n",
    "import speech_recognition as sr\n",
    "r = sr.Recognizer()\n",
    "\n",
    "minSilenceLen = 1200\n",
    "lengthAtLeast = 12 # in Seconds...\n",
    "audiobookMp3Path = \"/Users/joker/Jupyter Workspace/pydub/The Sovereign Individual/02. Preface.mp3\"\n",
    "\n",
    "def split(filepath):\n",
    "    sound = AudioSegment.from_mp3(filepath)\n",
    "    dBFS = sound.dBFS\n",
    "    chunks = silence.split_on_silence(sound, \n",
    "        min_silence_len = minSilenceLen,\n",
    "        silence_thresh = dBFS-16,\n",
    "        keep_silence = True\n",
    "    )\n",
    "    return chunks\n",
    "\n",
    "chunks = split(audiobookMp3Path)\n",
    "# print(chunks)\n",
    "print(len(chunks))"
   ]
  },
  {
   "cell_type": "code",
   "execution_count": null,
   "id": "649fbd37-62eb-45eb-9d1f-81b2c8d000d6",
   "metadata": {
    "tags": []
   },
   "outputs": [],
   "source": [
    "# code from\n",
    "# https://stackoverflow.com/questions/45526996/split-audio-files-using-silence-detection\n",
    "\n",
    "target_length = lengthAtLeast * 1000 #setting minimum length of each chunk to 25 seconds\n",
    "output_chunks = [chunks[0]]\n",
    "for chunk in chunks[1:]:\n",
    "    if len(output_chunks[-1]) < target_length:\n",
    "        output_chunks[-1] += chunk\n",
    "    else:\n",
    "        # if the last output chunk is longer than the target length,\n",
    "        # we can start a new one\n",
    "        output_chunks.append(chunk)\n",
    "\n",
    "# print(output_chunks)\n",
    "print(len(output_chunks))"
   ]
  },
  {
   "cell_type": "code",
   "execution_count": null,
   "id": "2b96f682-f77e-4c93-b834-d8a72ebca63e",
   "metadata": {
    "tags": []
   },
   "outputs": [],
   "source": [
    "for i, chunk in enumerate(output_chunks):\n",
    "    j = f'{i+1}'\n",
    "    chunk.export(f\"{i+1}.wav\".format(\"wav\"), bitrate=\"48k\", format=\"wav\")\n",
    "    # chunk.export(f\"{i}.mp3\".format(\"mp3\"), bitrate=\"48k\", format=\"mp3\")\n",
    "\n",
    "print(\"Done!\")"
   ]
  },
  {
   "cell_type": "code",
   "execution_count": null,
   "id": "90b40661-6574-4d40-acf3-75efdd8d8be8",
   "metadata": {
    "tags": []
   },
   "outputs": [],
   "source": [
    "wholetext=[]\n",
    "for i in range(1, len(output_chunks)+1):\n",
    "    with sr.AudioFile(f'{i}.wav') as source:\n",
    "        # listen for the data (load audio to memory)\n",
    "        audio_data = r.record(source)\n",
    "        # recognize (convert from speech to text)\n",
    "        text = r.recognize_google(audio_data)\n",
    "        wholetext.append(text)\n",
    "        print(f'\\n{i}\\n{text}\\n')\n",
    "\n",
    "print(\"\\nDone!\")"
   ]
  },
  {
   "cell_type": "code",
   "execution_count": null,
   "id": "f996a1f7-73d8-4a93-bd88-824804342ba0",
   "metadata": {
    "tags": []
   },
   "outputs": [],
   "source": [
    "html =[]\n",
    "\n",
    "htmlhead=\"\"\"\n",
    "<!DOCTYPE html>\n",
    "<html>\n",
    "<style>\n",
    "\tbody {\n",
    "\t\tpadding: 50px 100px;\n",
    "\t\tfont-family: 'Helvetica Neue UltraLight', Georgia, 'Times New Roman', Times, serif;\n",
    "\t\tfont-size: 16px;\n",
    "\t\tline-height: 2.2em;\n",
    "\t\tbackground-color: #F1F3F4;\n",
    "\t}\n",
    "\tblockquote {\n",
    "\t\tborder-left: 2px solid #ddd;\n",
    "\t\tpadding-left: 25px;\n",
    "\t}\n",
    "    em {\n",
    "        font-color: #719f79;\n",
    "    }\n",
    "</style>\n",
    "<body>\n",
    "\"\"\"\n",
    "\n",
    "htmlfooter=\"\"\"\n",
    "</body>\n",
    "</html>\n",
    "\"\"\"\n",
    "\n",
    "html.append(htmlhead)\n",
    "\n",
    "for i, text in enumerate(wholetext):\n",
    "    text = f\"\"\"\n",
    "<p><em>{i+1}</em>\n",
    "<blockquote>\n",
    "<p>\n",
    "{text}\n",
    "</p>\n",
    "<p>\n",
    "<audio controls loop>\n",
    "    <source src=\"{i+1}.wav\"\n",
    "    type=\"audio/wav\">\n",
    "</audio>\n",
    "</p>\n",
    "</blockquote>\n",
    "</p>\n",
    "    \"\"\"\n",
    "    html.append(text)\n",
    "    \n",
    "html.append(htmlfooter)\n",
    "\n",
    "htmlfile = open(\"02. Preface - audio-with-text.html\", \"w\")\n",
    "for line in html:\n",
    "    htmlfile.write(line)\n",
    "htmlfile.close()\n",
    "\n",
    "print(\"Done!\")\n"
   ]
  },
  {
   "cell_type": "code",
   "execution_count": null,
   "id": "b4689d00-26ed-43d8-a9b2-2afe278ffbc4",
   "metadata": {},
   "outputs": [],
   "source": []
  }
 ],
 "metadata": {
  "kernelspec": {
   "display_name": "Python 3 (ipykernel)",
   "language": "python",
   "name": "python3"
  },
  "language_info": {
   "codemirror_mode": {
    "name": "ipython",
    "version": 3
   },
   "file_extension": ".py",
   "mimetype": "text/x-python",
   "name": "python",
   "nbconvert_exporter": "python",
   "pygments_lexer": "ipython3",
   "version": "3.9.7"
  }
 },
 "nbformat": 4,
 "nbformat_minor": 5
}
