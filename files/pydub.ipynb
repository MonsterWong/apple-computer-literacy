{
 "cells": [
  {
   "cell_type": "code",
   "execution_count": 163,
   "id": "773988f2-10a1-4167-8bdd-1c747a01d9db",
   "metadata": {
    "tags": []
   },
   "outputs": [
    {
     "name": "stdout",
     "output_type": "stream",
     "text": [
      "18\n"
     ]
    }
   ],
   "source": [
    "from pydub import AudioSegment,silence\n",
    "from pydub.playback import play\n",
    "import speech_recognition as sr\n",
    "r = sr.Recognizer()\n",
    "\n",
    "minSilenceLen = 1200\n",
    "lengthAtLeast = 12 # in Seconds...\n",
    "audiobookMp3Path = \"/Users/joker/Jupyter Workspace/pydub/The Sovereign Individual/02. Preface.mp3\"\n",
    "\n",
    "def split(filepath):\n",
    "    sound = AudioSegment.from_mp3(filepath)\n",
    "    dBFS = sound.dBFS\n",
    "    chunks = silence.split_on_silence(sound, \n",
    "        min_silence_len = minSilenceLen,\n",
    "        silence_thresh = dBFS-16,\n",
    "        keep_silence = True\n",
    "    )\n",
    "    return chunks\n",
    "\n",
    "chunks = split(audiobookMp3Path)\n",
    "# print(chunks)\n",
    "print(len(chunks))"
   ]
  },
  {
   "cell_type": "code",
   "execution_count": 164,
   "id": "649fbd37-62eb-45eb-9d1f-81b2c8d000d6",
   "metadata": {
    "tags": []
   },
   "outputs": [
    {
     "name": "stdout",
     "output_type": "stream",
     "text": [
      "12\n"
     ]
    }
   ],
   "source": [
    "target_length = lengthAtLeast * 1000 #setting minimum length of each chunk to 25 seconds\n",
    "output_chunks = [chunks[0]]\n",
    "for chunk in chunks[1:]:\n",
    "    if len(output_chunks[-1]) < target_length:\n",
    "        output_chunks[-1] += chunk\n",
    "    else:\n",
    "        # if the last output chunk is longer than the target length,\n",
    "        # we can start a new one\n",
    "        output_chunks.append(chunk)\n",
    "\n",
    "# print(output_chunks)\n",
    "print(len(output_chunks))"
   ]
  },
  {
   "cell_type": "code",
   "execution_count": 165,
   "id": "2b96f682-f77e-4c93-b834-d8a72ebca63e",
   "metadata": {
    "tags": []
   },
   "outputs": [],
   "source": [
    "for i, chunk in enumerate(output_chunks):\n",
    "    j = f'{i+1}'\n",
    "    chunk.export(f\"{i+1}.wav\".format(\"wav\"), bitrate=\"48k\", format=\"wav\")\n",
    "    # chunk.export(f\"{i}.mp3\".format(\"mp3\"), bitrate=\"48k\", format=\"mp3\")\n",
    "\n",
    "print(\"Done!\")"
   ]
  },
  {
   "cell_type": "code",
   "execution_count": 166,
   "id": "90b40661-6574-4d40-acf3-75efdd8d8be8",
   "metadata": {
    "tags": []
   },
   "outputs": [
    {
     "name": "stdout",
     "output_type": "stream",
     "text": [
      "\n",
      "1\n",
      "preface medieval men despaired of the will they thought of humans as wounded and weak but they respected the intellect\n",
      "\n",
      "\n",
      "2\n",
      "they thought even humans if we think carefully have the power to answer the most profound questions of God and the universe Modern Men worship the will but they despair of the intellect\n",
      "\n",
      "\n",
      "3\n",
      "the wisdom of crowds the swerve of random particles the influence of unconscious biases all of these contemporary cliches are ways to talk about intellectual weakness or ways to talk ourselves into it\n",
      "\n",
      "\n",
      "4\n",
      "Lord William rees-mogg and James Dale Davidson do not promise answers about God and the universe nor do they Supply any but their investigation of Mega politics and anatomy of the forces at work in history and a set of predictions for the near future is unusual or even countercultural because it applies human reason to matters that we have been taught to leave to chance or fate\n",
      "\n",
      "\n",
      "5\n",
      "looking back almost a quarter-century after the first publication of the sovereign individual the easiest thing to do and the thing most encouraged by the culture around us is to look at what they got wrong almost as if to reassure ourselves that there was no point on the long and thinking carefully about the future\n",
      "\n",
      "\n",
      "6\n",
      "and of course there are some things they missed above all the rise of China the 21st century People's Republic of China under the Communist party has created its very own version of the information age with decidedly nationalist ethnically homogeneous profoundly statist characteristics this is probably the single biggest Mega belittle development since the book came out decide to just one key illustration communist China has crushed the city-state of Hong Kong whereas rees-mogg and Davidson had described Hong Kong as a mental model of the kind of jurisdiction that we expect to see flourish in the information age\n",
      "\n",
      "\n",
      "7\n",
      "I'm gonna count this is a blind spot on the part of the authors on another view it can seem like China's politburo must have been Keen readers of the sovereign individual it is only through a unique long-term awareness that looks back to Lenin and Stalin as well as forwards the information age that the party's leaders prevailed I'm at the trends analyzed by this book those Trends winner-take-all economics jurisdictional competition the shift away from mass production and the arguable obsolescence of Interstate Warfare are still at work today the rise of China is less a reputation of rees-mogg and Davidson than a dramatic raising of the stakes they described\n",
      "\n",
      "\n",
      "8\n",
      "in truth the great conflict over our Mega political future is only just beginning on the dimension of Technology the conflict has two poles Ai and crypto\n",
      "\n",
      "\n",
      "9\n",
      "artificial intelligence holds out the prospect of finally solving what Economist call the calculation problem a I could theoretically make it possible to centrally-controlled an entire economy it is no coincidence that AI is the favorite technology of the Communist Party of China\n",
      "\n",
      "\n",
      "10\n",
      "strong cryptography at the other pole holds out the prospect of a decentralized and individualized world if AI is communist crypto is libertarian\n",
      "\n",
      "\n",
      "11\n",
      "the future may lie somewhere between these two extreme polls but we know the actions we take today will determine the overall outcome reading the sovereign individual in 2020 is a way to think carefully about the future that your own actions will help to create\n",
      "\n",
      "\n",
      "12\n",
      "it is an opportunity not to be wasted Peter Thiel January 6th 2020 Los Angeles\n",
      "\n"
     ]
    }
   ],
   "source": [
    "wholetext=[]\n",
    "for i in range(1, len(output_chunks)+1):\n",
    "    with sr.AudioFile(f'{i}.wav') as source:\n",
    "        # listen for the data (load audio to memory)\n",
    "        audio_data = r.record(source)\n",
    "        # recognize (convert from speech to text)\n",
    "        text = r.recognize_google(audio_data)\n",
    "        wholetext.append(text)\n",
    "        print(f'\\n{i}\\n{text}\\n')\n",
    "\n",
    "print(\"\\nDone!\")"
   ]
  },
  {
   "cell_type": "code",
   "execution_count": 167,
   "id": "f996a1f7-73d8-4a93-bd88-824804342ba0",
   "metadata": {
    "tags": []
   },
   "outputs": [
    {
     "name": "stdout",
     "output_type": "stream",
     "text": [
      "done!\n"
     ]
    }
   ],
   "source": [
    "html =[]\n",
    "\n",
    "htmlhead=\"\"\"\n",
    "<!DOCTYPE html>\n",
    "<html>\n",
    "<style>\n",
    "\tbody {\n",
    "\t\tpadding: 50px 100px;\n",
    "\t\tfont-family: 'Helvetica Neue UltraLight', Georgia, 'Times New Roman', Times, serif;\n",
    "\t\tfont-size: 16px;\n",
    "\t\tline-height: 2.2em;\n",
    "\t\tbackground-color: #F1F3F4;\n",
    "\t}\n",
    "\tblockquote {\n",
    "\t\tborder-left: 2px solid #ddd;\n",
    "\t\tpadding-left: 25px;\n",
    "\t}\n",
    "    em {\n",
    "        font-color: #719f79;\n",
    "    }\n",
    "</style>\n",
    "<body>\n",
    "\"\"\"\n",
    "\n",
    "htmlfooter=\"\"\"\n",
    "</body>\n",
    "</html>\n",
    "\"\"\"\n",
    "\n",
    "html.append(htmlhead)\n",
    "\n",
    "for i, text in enumerate(wholetext):\n",
    "    text = f\"\"\"\n",
    "<p><em>{i+1}</em>\n",
    "<blockquote>\n",
    "{text}\n",
    "</blockquote>\n",
    "</p>\n",
    "<audio controls loop>\n",
    "    <source src=\"{i+1}.wav\"\n",
    "    type=\"audio/wav\">\n",
    "</audio>\n",
    "    \"\"\"\n",
    "    html.append(text)\n",
    "    \n",
    "html.append(htmlfooter)\n",
    "\n",
    "htmlfile = open(\"02. Preface - audio-with-text.html\", \"w\")\n",
    "for line in html:\n",
    "    htmlfile.write(line)\n",
    "htmlfile.close()\n",
    "\n",
    "print(\"Done!\")\n"
   ]
  }
 ],
 "metadata": {
  "kernelspec": {
   "display_name": "Python 3 (ipykernel)",
   "language": "python",
   "name": "python3"
  },
  "language_info": {
   "codemirror_mode": {
    "name": "ipython",
    "version": 3
   },
   "file_extension": ".py",
   "mimetype": "text/x-python",
   "name": "python",
   "nbconvert_exporter": "python",
   "pygments_lexer": "ipython3",
   "version": "3.9.7"
  }
 },
 "nbformat": 4,
 "nbformat_minor": 5
}
